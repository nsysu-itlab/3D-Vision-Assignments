{
 "cells": [
  {
   "cell_type": "code",
   "execution_count": 1,
   "metadata": {},
   "outputs": [
    {
     "name": "stdout",
     "output_type": "stream",
     "text": [
      "(450, 600, 3)\n",
      "42   43\n",
      "30   232\n",
      "359   35\n",
      "358   246\n"
     ]
    },
    {
     "ename": "",
     "evalue": "",
     "output_type": "error",
     "traceback": [
      "\u001b[1;31m在目前儲存格或上一個儲存格中執行程式碼時，Kernel 已損毀。請檢閱儲存格中的程式碼，找出失敗的可能原因。如需詳細資訊，請按一下<a href='https://aka.ms/vscodeJupyterKernelCrash'>這裡</a>。檢視 Jupyter <a href='command:jupyter.viewOutput'>記錄</a>，以取得進一步的詳細資料。"
     ]
    }
   ],
   "source": [
    "import cv2\n",
    "  \n",
    "color_red = (0,0,255)\n",
    "\n",
    "def click_event(event, x, y, flags, params):\n",
    "    if event == cv2.EVENT_LBUTTONDOWN:\n",
    "        print(x, ' ', y)\n",
    "        cv2.circle(img, (x,y), 1, color_red, 2)\n",
    "        cv2.imshow('image', img)\n",
    " \n",
    "if __name__==\"__main__\":\n",
    "    img = cv2.imread('library2.jpg')\n",
    "    img_copy = img.copy()\n",
    "    print(img.shape)\n",
    "    wid, ht, _ = img.shape\n",
    "    is_running = True\n",
    "    while is_running:\n",
    "      cv2.imshow('image', img)\n",
    "      cv2.setMouseCallback('image', click_event)\n",
    "      keyPressed = cv2.waitKey(0)\n",
    "      if keyPressed == ord('q'):\n",
    "        is_running = False\n",
    "      if keyPressed == ord('c'):\n",
    "        print('clear image')\n",
    "        img = img_copy.copy()\n",
    "      cv2.destroyAllWindows()\n"
   ]
  },
  {
   "cell_type": "code",
   "execution_count": null,
   "metadata": {},
   "outputs": [],
   "source": [
    "pts_dst=np.array([[279,57],[266,236],[595,32],[594,254]])\n",
    "pts_src = np.array([[42,43],[30,232],[359,35],[358,246]])\n",
    "\n"
   ]
  }
 ],
 "metadata": {
  "kernelspec": {
   "display_name": "Python 3 (ipykernel)",
   "language": "python",
   "name": "python3"
  },
  "language_info": {
   "codemirror_mode": {
    "name": "ipython",
    "version": 3
   },
   "file_extension": ".py",
   "mimetype": "text/x-python",
   "name": "python",
   "nbconvert_exporter": "python",
   "pygments_lexer": "ipython3",
   "version": "3.8.15"
  }
 },
 "nbformat": 4,
 "nbformat_minor": 2
}
