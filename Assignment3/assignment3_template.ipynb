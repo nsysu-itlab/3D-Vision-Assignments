{
 "cells": [
  {
   "cell_type": "code",
   "execution_count": null,
   "metadata": {},
   "outputs": [],
   "source": [
    "import numpy as np\n",
    "import cv2\n",
    "import time\n",
    "import matplotlib.pyplot as plt\n",
    "%matplotlib inline\n",
    "\n",
    "# TODO 1 (15%): Implement calc_homography()\n",
    "def calc_homography(pts_src, pts_dst):\n",
    "  # enter your code here, and remove the following line\n",
    "  return np.ones((3,3))\n"
   ]
  },
  {
   "cell_type": "code",
   "execution_count": null,
   "metadata": {},
   "outputs": [],
   "source": [
    "img_src = cv2.imread(\"monet.jpg\")\n",
    "img_dst = cv2.imread(\"painting.jpg\")\n",
    "ht_src, wid_src, _ = img_src.shape\n",
    "ht_dst, wid_dst, _ = img_dst.shape\n",
    "pts_src = np.array([    [0,0],[wid_src, 0],[wid_src,ht_src], [0,ht_src]])\n",
    "pts_dst = np.array([[299,515],  [1776,360],     [1680,1834], [239,1615]])\n",
    "print('source_shape:', ht_src, wid_src)\n",
    "print('destination_shape:', ht_dst, wid_dst)\n",
    "\n",
    "H = calc_homography(pts_src, pts_dst)\n",
    "H = H/H[2,2]\n",
    "print(H)"
   ]
  },
  {
   "cell_type": "code",
   "execution_count": null,
   "metadata": {},
   "outputs": [],
   "source": [
    "# TODO 2 (10%): Project the source image on the frame\n",
    "#         formed by v1, v2, v3, and v4 in the target image via direct mapping.\n",
    "# Display the projection result."
   ]
  },
  {
   "cell_type": "code",
   "execution_count": null,
   "metadata": {},
   "outputs": [],
   "source": [
    "# TODO 3 (20%): Project the source image on the frame\n",
    "#         formed by v1, v2, v3, and v4 in the target image via inverse mapping.\n",
    "# Display the projection result."
   ]
  },
  {
   "cell_type": "code",
   "execution_count": null,
   "metadata": {},
   "outputs": [],
   "source": [
    "# TODO 4 (10%): Select key points in library1.jpg and library2.jpg.\n",
    "# Display the selected points in library1.jpg/library2.jpg as shown in assignment3.pdf\n",
    "img_dst = cv2.imread(\"library1.jpg\")\n",
    "img_src = cv2.imread(\"library2.jpg\")\n",
    "# enter the coordinates of the selected points below (Both pts_dst and pts_src are of shape (4,2).)\n",
    "# pts_dst = ...\n",
    "# pts_src = ...\n",
    "# enter your code here"
   ]
  },
  {
   "cell_type": "code",
   "execution_count": null,
   "metadata": {},
   "outputs": [],
   "source": [
    "# TODO 5 (20%): Warping library2.jpg to create img_warp.\n",
    "# Display the warped result."
   ]
  },
  {
   "cell_type": "code",
   "execution_count": null,
   "metadata": {},
   "outputs": [],
   "source": [
    "# TODO 6 (5%): Stitching library1.jpg and img_warped.\n",
    "# Display the stitched result."
   ]
  },
  {
   "cell_type": "code",
   "execution_count": null,
   "metadata": {},
   "outputs": [],
   "source": [
    "# TODO 7 (10%): Post-processing the stitched result.\n",
    "# Display the final result."
   ]
  },
  {
   "cell_type": "code",
   "execution_count": null,
   "metadata": {},
   "outputs": [],
   "source": [
    "# TODO 8 (10%): Complete the same task as in TODO 3, but without using any for loops.\n",
    "img_src = cv2.imread(\"monet.jpg\")\n",
    "img_dst = cv2.imread(\"painting.jpg\")\n",
    "ht_src, wid_src, _ = img_src.shape\n",
    "ht_dst, wid_dst, _ = img_dst.shape\n",
    "pts_src = np.array([    [0,0],[wid_src, 0],[wid_src,ht_src], [0,ht_src]])\n",
    "pts_dst = np.array([[299,515],  [1776,360],     [1680,1834], [239,1615]])\n",
    "# enter your code here"
   ]
  }
 ],
 "metadata": {
  "kernelspec": {
   "display_name": "Python 3",
   "language": "python",
   "name": "python3"
  },
  "language_info": {
   "codemirror_mode": {
    "name": "ipython",
    "version": 3
   },
   "file_extension": ".py",
   "mimetype": "text/x-python",
   "name": "python",
   "nbconvert_exporter": "python",
   "pygments_lexer": "ipython3",
   "version": "3.6.7"
  }
 },
 "nbformat": 4,
 "nbformat_minor": 2
}
