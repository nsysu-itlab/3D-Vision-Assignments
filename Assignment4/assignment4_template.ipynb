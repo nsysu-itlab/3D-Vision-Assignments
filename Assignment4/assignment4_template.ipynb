{
 "cells": [
  {
   "cell_type": "code",
   "execution_count": null,
   "metadata": {},
   "outputs": [],
   "source": [
    "import numpy as np\n",
    "import matplotlib.pyplot as plt\n",
    "from mpl_toolkits.mplot3d import Axes3D\n",
    "\n",
    "img1 = plt.imread('box_left_2k.jpg')\n",
    "img2 = plt.imread('box_right_2k.jpg')\n",
    "\n",
    "pts1 = np.array([[1148, 351], [1441, 481], [1427, 662], [1172, 525], [1524,80], [1795,134], [1744,307],\n",
    "        [1564, 320], [1579, 306], [1584, 288]])\n",
    "\n",
    "pts2 = np.array([[747, 397], [944,522], [1010,704], [822,558], [1212,116], [1440,170], [1433,350],\n",
    "        [1131,360], [1152,342], [1166,326]])\n",
    "\n",
    "K1 = np.array([[1062.04, 0, 1098.52], [0, 1061.74, 599.665], [0, 0, 1]])\n",
    "K2 = np.array([[1060.59, 0, 1127.03], [0, 1060.06, 645.711], [0, 0, 1]])\n",
    "\n",
    "# TODO 1 (15 points): Normalize image points.\n",
    "#        There is no need to use for loops in this task. If you use for loops in this task, you can get at most 10 point.\n",
    "# TODO 2 (25 points): Compute the fundamental matrix F.\n",
    "# TODO 3 (15 points): Draw epipolar lines in image1.\n",
    "# TODO 4 (10 points): Draw the epipole and epipolar lines in image1.\n",
    "# TODO 5 (5 points): Compute the 4 possible camera matrices.\n",
    "# TODO 6 (25 points): Triangulation.\n",
    "#        There is no need to use for loops when computing the reconstruction errors of pts1 (or pts2).\n",
    "#        If you do, you can get at most 20 point.\n",
    "# TODO 7 (5 points): Visualize the 3D reconstruction."
   ]
  }
 ],
 "metadata": {
  "kernelspec": {
   "display_name": "Python 3",
   "language": "python",
   "name": "python3"
  },
  "language_info": {
   "codemirror_mode": {
    "name": "ipython",
    "version": 3
   },
   "file_extension": ".py",
   "mimetype": "text/x-python",
   "name": "python",
   "nbconvert_exporter": "python",
   "pygments_lexer": "ipython3",
   "version": "3.6.7"
  }
 },
 "nbformat": 4,
 "nbformat_minor": 2
}
