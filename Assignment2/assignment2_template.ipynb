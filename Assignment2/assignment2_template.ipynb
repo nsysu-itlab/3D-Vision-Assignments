{
 "cells": [
  {
   "cell_type": "code",
   "execution_count": null,
   "metadata": {},
   "outputs": [],
   "source": [
    "import cv2\n",
    "import numpy as np\n",
    "import matplotlib.pyplot as plt\n",
    "from math import cos, sin, atan2, sqrt\n",
    "%matplotlib notebook\n",
    "\n",
    "img_name = 'emma_watson'\n",
    "face2d = np.load(img_name + '.npy')\n",
    "face2d = face2d.astype('float32')\n",
    "face3d = np.load('basel_68_pts.npy')\n",
    "# Do not change the following two lines\n",
    "face3d[1,:] *= -1\n",
    "face3d[2,:] *= -1\n",
    "print('face3d.shape', face3d.shape)\n",
    "\n",
    "# TODO1: Display the 2D landmarks\n",
    "# enter your code here "
   ]
  },
  {
   "cell_type": "code",
   "execution_count": null,
   "metadata": {},
   "outputs": [],
   "source": [
    "# TODO 2: Pose estimation\n",
    "# enter your code here"
   ]
  },
  {
   "cell_type": "code",
   "execution_count": null,
   "metadata": {},
   "outputs": [],
   "source": [
    "# TODO 3: Compute the reprojected 2D landmarks, face2d_repr\n",
    "# enter your code here"
   ]
  },
  {
   "cell_type": "code",
   "execution_count": null,
   "metadata": {},
   "outputs": [],
   "source": [
    "# TODO 4: Print the reprojection error\n",
    "# enter your code here"
   ]
  },
  {
   "cell_type": "code",
   "execution_count": null,
   "metadata": {},
   "outputs": [],
   "source": [
    "# TODO 5: Repeat TODO 2 ~ TODO 4 using 51 landmarks\n",
    "# enter your code here"
   ]
  },
  {
   "cell_type": "code",
   "execution_count": null,
   "metadata": {},
   "outputs": [],
   "source": [
    "# Question 1: Which is better to perform pose estimation, using 68 points or using 51 points? \n",
    "# enter your answer here"
   ]
  },
  {
   "cell_type": "code",
   "execution_count": null,
   "metadata": {},
   "outputs": [],
   "source": [
    "# TODO 6: Augmented reality\n",
    "# enter your code here"
   ]
  }
 ],
 "metadata": {
  "kernelspec": {
   "display_name": "Python 3",
   "language": "python",
   "name": "python3"
  },
  "language_info": {
   "codemirror_mode": {
    "name": "ipython",
    "version": 3
   },
   "file_extension": ".py",
   "mimetype": "text/x-python",
   "name": "python",
   "nbconvert_exporter": "python",
   "pygments_lexer": "ipython3",
   "version": "3.6.7"
  }
 },
 "nbformat": 4,
 "nbformat_minor": 2
}
